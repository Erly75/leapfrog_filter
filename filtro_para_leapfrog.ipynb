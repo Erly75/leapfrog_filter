{
 "cells": [
  {
   "cell_type": "code",
   "execution_count": 2,
   "id": "f711165f-3c4f-41a0-9d10-b1d3b74fd83b",
   "metadata": {},
   "outputs": [],
   "source": [
    "import modulos_filtro_leapfrog as filtro"
   ]
  },
  {
   "cell_type": "code",
   "execution_count": 7,
   "id": "9a32b662-e1b5-4c1a-adc0-a8eefe29282a",
   "metadata": {},
   "outputs": [],
   "source": [
    "# digitar la ruta en la que se encuentra el archivo .xlsx que se quiere evaluar\n",
    "# ruta = \"/home/chino/Escritorio/gb/lun_11_set_23/src/\"\n",
    "ruta = \"/home/chino/Escritorio/gb/lun_11_set_23/src/\"\n",
    "\n",
    "# digita el nombre del archivo .xslx sin la extensión\n",
    "# ejemplo:\n",
    "# archivo = \"ensayo-error\"\n",
    "archivo = \"ensayo-error\"\n",
    "\n",
    "# digita la opcion de cantidad de puntos medios que quieres usar\n",
    "# [1] = 1 punto medio\n",
    "# [2] = 3 puntos medios\n",
    "# [3] = 7 puntos medios\n",
    "cant_puntos = 2\n",
    "\n",
    "# digita el valor de la coordenada minima en Z\n",
    "z_minimo = 3890\n",
    "\n",
    "# digita el valor de la coordenada maxima en Z\n",
    "z_maximo = 3905"
   ]
  },
  {
   "cell_type": "code",
   "execution_count": 8,
   "id": "22294341-d6ae-4431-9cdf-75cbca8d6896",
   "metadata": {},
   "outputs": [
    {
     "name": "stdout",
     "output_type": "stream",
     "text": [
      "( (  [y] >= 8440293.79977 and [y] <= 8440312.81554 and [x] >= 792680.38439 and [x] <= 793058.85089\n",
      "or [y] >= 8440312.81554 and [y] <= 8440331.83131 and [x] >= 792627.09314 and [x] <= 793058.85089\n",
      "or [y] >= 8440331.83131 and [y] <= 8440350.84708 and [x] >= 792573.80188 and [x] <= 793058.85089\n",
      "or [y] >= 8440350.84708 and [y] <= 8440369.86284 and [x] >= 792520.510626 and [x] <= 793058.85089\n",
      "or [y] >= 8440369.86284 and [y] <= 8440393.02204 and [x] >= 792520.510626 and [x] <= 793058.85089\n",
      "or [y] >= 8440393.02204 and [y] <= 8440416.18124 and [x] >= 792530.64033 and [x] <= 793058.85089\n",
      "or [y] >= 8440416.18124 and [y] <= 8440439.34045 and [x] >= 792540.77003 and [x] <= 793058.85089\n",
      "or [y] >= 8440439.34045 and [y] <= 8440462.49965 and [x] >= 792550.89973 and [x] <= 793058.85089\n",
      "or [y] >= 8440462.49965 and [y] <= 8440513.5033 and [x] >= 792561.029436 and [x] <= 793058.85089\n",
      "or [y] >= 8440513.5033 and [y] <= 8440564.50695 and [x] >= 792619.13289 and [x] <= 793058.85089\n",
      "or [y] >= 8440564.50695 and [y] <= 8440615.5106 and [x] >= 792677.23634 and [x] <= 793058.85089\n",
      "or [y] >= 8440615.5106 and [y] <= 8440666.51425 and [x] >= 792735.33979 and [x] <= 793058.85089\n",
      "or [y] >= 8440666.51425 and [y] <= 8440708.07308 and [x] >= 792793.44324 and [x] <= 793058.85089\n",
      "or [y] >= 8440708.07308 and [y] <= 8440749.63191 and [x] >= 792812.36048 and [x] <= 793058.85089\n",
      "or [y] >= 8440749.63191 and [y] <= 8440791.19074 and [x] >= 792831.27772 and [x] <= 793058.85089\n",
      "or [y] >= 8440791.19074 and [y] <= 8440832.74957 and [x] >= 792850.19496 and [x] <= 793058.85089  ) \n",
      "and \n",
      "(  [y] <= 8440832.74957 and [y] >= 8440806.00144 and [x] >= 792520.510626 and [x] <= 792916.54688\n",
      "or [y] <= 8440806.00144 and [y] >= 8440779.2533 and [x] >= 792520.510626 and [x] <= 792963.98155\n",
      "or [y] <= 8440779.2533 and [y] >= 8440752.50516 and [x] >= 792520.510626 and [x] <= 793011.41622\n",
      "or [y] <= 8440752.50516 and [y] >= 8440725.75703 and [x] >= 792520.510626 and [x] <= 793058.85089\n",
      "or [y] <= 8440725.75703 and [y] >= 8440693.74247 and [x] >= 792520.510626 and [x] <= 793058.85089\n",
      "or [y] <= 8440693.74247 and [y] >= 8440661.72792 and [x] >= 792520.510626 and [x] <= 793036.88774\n",
      "or [y] <= 8440661.72792 and [y] >= 8440629.71336 and [x] >= 792520.510626 and [x] <= 793014.9246\n",
      "or [y] <= 8440629.71336 and [y] >= 8440597.6988 and [x] >= 792520.510626 and [x] <= 792992.96146\n",
      "or [y] <= 8440597.6988 and [y] >= 8440564.11039 and [x] >= 792520.510626 and [x] <= 792970.998315\n",
      "or [y] <= 8440564.11039 and [y] >= 8440530.52197 and [x] >= 792520.510626 and [x] <= 792942.0522\n",
      "or [y] <= 8440530.52197 and [y] >= 8440496.93355 and [x] >= 792520.510626 and [x] <= 792913.10608\n",
      "or [y] <= 8440496.93355 and [y] >= 8440463.34513 and [x] >= 792520.510626 and [x] <= 792884.15997\n",
      "or [y] <= 8440463.34513 and [y] >= 8440420.95879 and [x] >= 792520.510626 and [x] <= 792855.213851\n",
      "or [y] <= 8440420.95879 and [y] >= 8440378.57245 and [x] >= 792520.510626 and [x] <= 792824.8293\n",
      "or [y] <= 8440378.57245 and [y] >= 8440336.18611 and [x] >= 792520.510626 and [x] <= 792794.44475\n",
      "or [y] <= 8440336.18611 and [y] >= 8440293.79977 and [x] >= 792520.510626 and [x] <= 792764.0602\n",
      "or [y] <= 8440293.79977 and [y] >= 8440293.79977 and [x] >= 792520.510626 and [x] <= 792733.675646  ) ) \n",
      "and \n",
      "([z] >= 3890 and [z] <= 3905)\n"
     ]
    }
   ],
   "source": [
    "resultado = filtro.funcion_principal(ruta=ruta,archivo=archivo,cant_puntos=cant_puntos,z_minimo=z_minimo,z_maximo=z_maximo)\n",
    "print(resultado)"
   ]
  }
 ],
 "metadata": {
  "kernelspec": {
   "display_name": "Python 3 (ipykernel)",
   "language": "python",
   "name": "python3"
  },
  "language_info": {
   "codemirror_mode": {
    "name": "ipython",
    "version": 3
   },
   "file_extension": ".py",
   "mimetype": "text/x-python",
   "name": "python",
   "nbconvert_exporter": "python",
   "pygments_lexer": "ipython3",
   "version": "3.9.2"
  }
 },
 "nbformat": 4,
 "nbformat_minor": 5
}
